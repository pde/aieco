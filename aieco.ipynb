{
 "cells": [
  {
   "cell_type": "code",
   "execution_count": 5,
   "metadata": {
    "collapsed": true
   },
   "outputs": [],
   "source": [
    "import numpy as np\n",
    "import numpy.random as npr"
   ]
  },
  {
   "cell_type": "code",
   "execution_count": 24,
   "metadata": {
    "collapsed": true
   },
   "outputs": [],
   "source": [
    "class Parameters:\n",
    "    def __init__(self):\n",
    "        self.comp_attribute_sd = 0.2\n",
    "        self.env_size = 10\n",
    "        self.open_source = npr.choice([True, False])\n",
    "        \n",
    "        "
   ]
  },
  {
   "cell_type": "code",
   "execution_count": 7,
   "metadata": {
    "collapsed": true
   },
   "outputs": [],
   "source": [
    "class Computers:\n",
    "    def __init__(self, params):\n",
    "        self.env_size = params.env_size\n",
    "        self.secs = npr.uniform(size=params.env_size)\n",
    "        self.attns = self.secs + npr.normal(scale=params.comp_attribute_sd, size=params.env_size)\n",
    "        self.perfs = self.secs + npr.normal(scale=params.comp_attribute_sd, size=params.env_size)\n",
    "        np.clip(self.attns, 0, 1, self.attns)\n",
    "        np.clip(self.perfs, 0, 1, self.perfs)\n",
    "        self.occupants = np.zeros(params.env_size)\n",
    "        \n",
    "    def add_ai(self, ai, pos=None):\n",
    "        if pos is None:\n",
    "            pos = npr.randint(env_size)\n",
    "        self.occupants[pos] = AI"
   ]
  },
  {
   "cell_type": "code",
   "execution_count": 20,
   "metadata": {
    "collapsed": true
   },
   "outputs": [],
   "source": [
    "class AI:\n",
    "    def __init__(self, params):\n",
    "        # These parameters are proportions of time that the agent spends on each task\n",
    "        proportions = npr.dirichlet(np.ones(5), 1)[0]\n",
    "        self.exploit, self.self_improv, self.bugfix, self.help_humans, self.work = proportions\n",
    "    def __repr__(self):\n",
    "        return \"AI(exp:{0:.3f}, imp:{1:.3f}, fix:{2:.3f}, hlp:{3:.3f}, wrk:{4:.3f})\".format(\n",
    "            self.exploit, self.self_improv, self.bugfix, self.help_humans, self.work)\n",
    "        "
   ]
  },
  {
   "cell_type": "code",
   "execution_count": 25,
   "metadata": {
    "collapsed": true
   },
   "outputs": [],
   "source": [
    "class Population:\n",
    "    def __init__(self, params):\n",
    "        if params.open_source:\n",
    "            # sample: [2322, 920, 2544, 440, 1525, 1571, 1464, 303, 1136, 1222, 2032, 391, 2517, 636, 274, 1922, 3540, 3936, 607, 916]\n",
    "            self.popsize = int(np.ceil(npr.lognormal(npr.uniform(5.0, 8.0))))\n",
    "        else:\n",
    "            # sample: [2, 2, 3, 2, 1, 1, 2, 1, 5, 3, 3, 2, 4, 3, 7, 3, 1, 1, 1, 1, 2, 1, 4, 3, 1]\n",
    "            self.popsize = int(np.ceil(npr.lognormal(0.4)))\n",
    "        \n",
    "        self.ais = [AI(params) for n in range(self.popsize)]"
   ]
  },
  {
   "cell_type": "code",
   "execution_count": 31,
   "metadata": {
    "collapsed": false
   },
   "outputs": [],
   "source": [
    "params = Parameters()\n",
    "comps = Computers(params)\n",
    "AI(params)\n"
   ]
  },
  {
   "cell_type": "code",
   "execution_count": 117,
   "metadata": {
    "collapsed": false
   },
   "outputs": [
    {
     "data": {
      "text/plain": [
       "[AI(exp:0.012, imp:0.287, fix:0.085, hlp:0.564, wrk:0.052),\n",
       " AI(exp:0.527, imp:0.108, fix:0.099, hlp:0.202, wrk:0.065),\n",
       " AI(exp:0.140, imp:0.539, fix:0.011, hlp:0.018, wrk:0.292)]"
      ]
     },
     "execution_count": 117,
     "metadata": {},
     "output_type": "execute_result"
    }
   ],
   "source": [
    "x = Population(params)\n",
    "\n",
    "x.ais"
   ]
  },
  {
   "cell_type": "code",
   "execution_count": 16,
   "metadata": {
    "collapsed": false
   },
   "outputs": [
    {
     "data": {
      "text/plain": [
       "(array([ 0.67850837,  0.32367809,  0.18186434,  0.92509432,  0.00949944,\n",
       "         0.29423108,  0.97183779,  0.76557834,  0.55377642,  0.12289116]),\n",
       " array([ 0.67223102,  0.44610274,  0.16835862,  0.78802167,  0.        ,\n",
       "         0.06413982,  0.95106517,  0.57866962,  0.37615944,  0.        ]),\n",
       " array([ 0.66878956,  0.        ,  0.25302042,  0.54906546,  0.06688096,\n",
       "         0.28872204,  1.        ,  0.60823988,  1.        ,  0.08393622]))"
      ]
     },
     "execution_count": 16,
     "metadata": {},
     "output_type": "execute_result"
    }
   ],
   "source": [
    "comps.secs, comps.attns, comps.perfs"
   ]
  },
  {
   "cell_type": "code",
   "execution_count": null,
   "metadata": {
    "collapsed": true
   },
   "outputs": [],
   "source": []
  }
 ],
 "metadata": {
  "kernelspec": {
   "display_name": "Python 3",
   "language": "python",
   "name": "python3"
  },
  "language_info": {
   "codemirror_mode": {
    "name": "ipython",
    "version": 3
   },
   "file_extension": ".py",
   "mimetype": "text/x-python",
   "name": "python",
   "nbconvert_exporter": "python",
   "pygments_lexer": "ipython3",
   "version": "3.6.3"
  }
 },
 "nbformat": 4,
 "nbformat_minor": 2
}
